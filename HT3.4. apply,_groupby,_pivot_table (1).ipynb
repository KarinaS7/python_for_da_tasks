{
 "cells": [
  {
   "cell_type": "markdown",
   "metadata": {
    "id": "LwNpAFw_eTF3"
   },
   "source": [
    "#Домашнє завдання до тем apply(), groupby(), pivot_table()"
   ]
  },
  {
   "cell_type": "markdown",
   "metadata": {
    "id": "vP2PEJyq8Yrj"
   },
   "source": [
    "В цьому домашньому завданні продовжуємо працювати з набором даних `supermarket_sales.csv`."
   ]
  },
  {
   "cell_type": "markdown",
   "metadata": {
    "id": "dh9lfpDb8gBL"
   },
   "source": [
    "0. Імпортуйте бібліотеку pandas та зчитайте дані у змінну `df` типу `pandas.DataFrame`."
   ]
  },
  {
   "cell_type": "code",
   "execution_count": 1,
   "metadata": {
    "ExecuteTime": {
     "end_time": "2024-09-05T08:21:16.508146Z",
     "start_time": "2024-09-05T08:21:15.796509Z"
    },
    "id": "xBI9gJMK8qnl"
   },
   "outputs": [],
   "source": [
    "import pandas as pd"
   ]
  },
  {
   "cell_type": "code",
   "execution_count": 2,
   "metadata": {
    "ExecuteTime": {
     "end_time": "2024-09-05T08:21:32.195009Z",
     "start_time": "2024-09-05T08:21:32.102643Z"
    }
   },
   "outputs": [],
   "source": [
    "import os\n",
    "os.listdir()\n",
    "os.listdir('/Users/karinashport/Desktop/data/')\n",
    "data_path = '/Users/karinashport/Desktop/data/supermarket_sales.csv'\n",
    "df = pd.read_csv(data_path)"
   ]
  },
  {
   "cell_type": "code",
   "execution_count": 3,
   "metadata": {
    "ExecuteTime": {
     "end_time": "2024-09-05T08:21:39.857470Z",
     "start_time": "2024-09-05T08:21:39.845830Z"
    }
   },
   "outputs": [
    {
     "data": {
      "text/plain": [
       "pandas.core.frame.DataFrame"
      ]
     },
     "execution_count": 3,
     "metadata": {},
     "output_type": "execute_result"
    }
   ],
   "source": [
    "type(df)"
   ]
  },
  {
   "cell_type": "markdown",
   "metadata": {
    "id": "28638363"
   },
   "source": [
    "1. Дослідимо, який філіал супермаркету ('Branch') є найприбутковішим. Для цього знайдіть сумарний прибуток за кожним філіалом і виявіть, який філіал має найвищий."
   ]
  },
  {
   "cell_type": "code",
   "execution_count": 19,
   "metadata": {
    "ExecuteTime": {
     "end_time": "2024-09-05T08:29:37.004382Z",
     "start_time": "2024-09-05T08:29:36.994345Z"
    },
    "id": "916d731d"
   },
   "outputs": [
    {
     "data": {
      "text/plain": [
       "Branch\n",
       "A    106200.3705\n",
       "B    106197.6720\n",
       "C    110568.7065\n",
       "Name: Total, dtype: float64"
      ]
     },
     "execution_count": 19,
     "metadata": {},
     "output_type": "execute_result"
    }
   ],
   "source": [
    "branch_profit = df.groupby('Branch')['Total'].sum()\n",
    "branch_profit"
   ]
  },
  {
   "cell_type": "code",
   "execution_count": 21,
   "metadata": {
    "ExecuteTime": {
     "end_time": "2024-09-05T08:29:49.327768Z",
     "start_time": "2024-09-05T08:29:49.322703Z"
    }
   },
   "outputs": [
    {
     "data": {
      "text/plain": [
       "110568.7065"
      ]
     },
     "execution_count": 21,
     "metadata": {},
     "output_type": "execute_result"
    }
   ],
   "source": [
    "max_profit = branch_profit.max()\n",
    "max_profit"
   ]
  },
  {
   "cell_type": "code",
   "execution_count": 24,
   "metadata": {
    "ExecuteTime": {
     "end_time": "2024-09-05T08:33:06.236944Z",
     "start_time": "2024-09-05T08:33:06.227344Z"
    }
   },
   "outputs": [
    {
     "data": {
      "text/plain": [
       "'C'"
      ]
     },
     "execution_count": 24,
     "metadata": {},
     "output_type": "execute_result"
    }
   ],
   "source": [
    "most_profitable_branch = branch_profit.idxmax()\n",
    "most_profitable_branch"
   ]
  },
  {
   "cell_type": "markdown",
   "metadata": {
    "id": "2qL_OddUCZKK"
   },
   "source": [
    "2. В якому місті знайходиться філіал з найвищим прибутком? Може в тому місці нам розмітисти ще один магазин.  \n",
    "Знайдіть відповідь за допомогою функціоналу Pandas."
   ]
  },
  {
   "cell_type": "code",
   "execution_count": 30,
   "metadata": {
    "ExecuteTime": {
     "end_time": "2024-09-05T08:36:42.648201Z",
     "start_time": "2024-09-05T08:36:42.634309Z"
    },
    "id": "bBJUc1dWCwdi"
   },
   "outputs": [
    {
     "data": {
      "text/plain": [
       "'Naypyitaw'"
      ]
     },
     "execution_count": 30,
     "metadata": {},
     "output_type": "execute_result"
    }
   ],
   "source": [
    "df[df['Branch'] == most_profitable_branch]['City'].unique()[0]"
   ]
  },
  {
   "cell_type": "markdown",
   "metadata": {
    "id": "6dec795f"
   },
   "source": [
    "3.1. Створіть зводну таблицю, яка покаже, скільки покупок (інвойсів) було зроблено в кожній з філій (`Branch`) за різними категоріями товарів. Запишіть таблицю в змінну `invoices_by_category` і виведіть змінну на екран.\n",
    "Ця таблиця допоможе проаналізувати, в якій філії купують найбільше товарів кожної з категорій."
   ]
  },
  {
   "cell_type": "code",
   "execution_count": 40,
   "metadata": {
    "ExecuteTime": {
     "end_time": "2024-09-05T08:40:36.934018Z",
     "start_time": "2024-09-05T08:40:36.916692Z"
    },
    "id": "N7TfUBf4ZrkX"
   },
   "outputs": [
    {
     "data": {
      "text/html": [
       "<div>\n",
       "<style scoped>\n",
       "    .dataframe tbody tr th:only-of-type {\n",
       "        vertical-align: middle;\n",
       "    }\n",
       "\n",
       "    .dataframe tbody tr th {\n",
       "        vertical-align: top;\n",
       "    }\n",
       "\n",
       "    .dataframe thead th {\n",
       "        text-align: right;\n",
       "    }\n",
       "</style>\n",
       "<table border=\"1\" class=\"dataframe\">\n",
       "  <thead>\n",
       "    <tr style=\"text-align: right;\">\n",
       "      <th>Product line</th>\n",
       "      <th>Electronic accessories</th>\n",
       "      <th>Fashion accessories</th>\n",
       "      <th>Food and beverages</th>\n",
       "      <th>Health and beauty</th>\n",
       "      <th>Home and lifestyle</th>\n",
       "      <th>Sports and travel</th>\n",
       "    </tr>\n",
       "    <tr>\n",
       "      <th>Branch</th>\n",
       "      <th></th>\n",
       "      <th></th>\n",
       "      <th></th>\n",
       "      <th></th>\n",
       "      <th></th>\n",
       "      <th></th>\n",
       "    </tr>\n",
       "  </thead>\n",
       "  <tbody>\n",
       "    <tr>\n",
       "      <th>A</th>\n",
       "      <td>60</td>\n",
       "      <td>51</td>\n",
       "      <td>58</td>\n",
       "      <td>47</td>\n",
       "      <td>65</td>\n",
       "      <td>59</td>\n",
       "    </tr>\n",
       "    <tr>\n",
       "      <th>B</th>\n",
       "      <td>55</td>\n",
       "      <td>62</td>\n",
       "      <td>50</td>\n",
       "      <td>53</td>\n",
       "      <td>50</td>\n",
       "      <td>62</td>\n",
       "    </tr>\n",
       "    <tr>\n",
       "      <th>C</th>\n",
       "      <td>55</td>\n",
       "      <td>65</td>\n",
       "      <td>66</td>\n",
       "      <td>52</td>\n",
       "      <td>45</td>\n",
       "      <td>45</td>\n",
       "    </tr>\n",
       "  </tbody>\n",
       "</table>\n",
       "</div>"
      ],
      "text/plain": [
       "Product line  Electronic accessories  Fashion accessories  Food and beverages  \\\n",
       "Branch                                                                          \n",
       "A                                 60                   51                  58   \n",
       "B                                 55                   62                  50   \n",
       "C                                 55                   65                  66   \n",
       "\n",
       "Product line  Health and beauty  Home and lifestyle  Sports and travel  \n",
       "Branch                                                                  \n",
       "A                            47                  65                 59  \n",
       "B                            53                  50                 62  \n",
       "C                            52                  45                 45  "
      ]
     },
     "execution_count": 40,
     "metadata": {},
     "output_type": "execute_result"
    }
   ],
   "source": [
    "invoices_by_category = df.pivot_table(index='Branch', columns='Product line', values='Invoice ID', aggfunc='count')\n",
    "\n",
    "invoices_by_category"
   ]
  },
  {
   "cell_type": "markdown",
   "metadata": {
    "ExecuteTime": {
     "end_time": "2022-11-01T16:50:46.961201Z",
     "start_time": "2022-11-01T16:50:46.955894Z"
    },
    "id": "f5bbfa34"
   },
   "source": [
    "Очікуваний результат:"
   ]
  },
  {
   "cell_type": "markdown",
   "metadata": {
    "id": "34b9bcdc"
   },
   "source": [
    "![](https://drive.google.com/uc?export=view&id=1rueAdko6S3UxIHGtojetTxlES-EyM6Yb)"
   ]
  },
  {
   "cell_type": "markdown",
   "metadata": {
    "id": "woygDEA0OSwJ"
   },
   "source": [
    "3.2. Викристовуючи змінну `invoices_by_category` дайте відповідь програмно (тобто значення треба не просто знайти очима, а вивести за допомогою коду), в якому філіалі магазину (`Branch`) найбільше інвойсів із покупкою товарів категорії \"Електронні аксесуари\" (`Electronic accessories`)?\n"
   ]
  },
  {
   "cell_type": "code",
   "execution_count": 44,
   "metadata": {
    "ExecuteTime": {
     "end_time": "2024-09-05T08:41:08.259281Z",
     "start_time": "2024-09-05T08:41:08.252792Z"
    },
    "id": "B5x8kTE-Qcq8"
   },
   "outputs": [
    {
     "data": {
      "text/plain": [
       "'A'"
      ]
     },
     "execution_count": 44,
     "metadata": {},
     "output_type": "execute_result"
    }
   ],
   "source": [
    "invoices_by_category['Electronic accessories'].idxmax()"
   ]
  },
  {
   "cell_type": "markdown",
   "metadata": {
    "ExecuteTime": {
     "end_time": "2022-11-01T17:56:02.981755Z",
     "start_time": "2022-11-01T17:56:02.977086Z"
    },
    "id": "d005a2b8"
   },
   "source": [
    "4-6. **Творче завдання на розвиток аналітичного мислення**\n",
    "\n",
    "Крок 1. Сформулюйте ТРИ питання (гіпотези) до наявних даних, які допомогли б вам зрозуміти, які користувачі що, де та коли найбільше/найменше купують, аби дати на основі цих гіпотез рекомендації бізнесу. Звісно питання мають бути не тими, на які ми вже відповіли в завданнях модулю.\n",
    "\n",
    "Крок 2. Знайдіть відповіді на свої питання з допомогою функціоналу pandas.\n",
    "\n",
    "Крок 3. Напишіть, як відповідь на це питання може бути використана для прийняття бізнес рішень.   \n",
    "   \n",
    " Питання можуть бути будь-якої складності, але їх має бути 3. Кожне питання оцінюється як 1 завдання. Без виконання цього завдання ДЗ не приймається. Якщо є питання щодо виконання - пишіть у чат 🙌\n"
   ]
  },
  {
   "cell_type": "markdown",
   "metadata": {
    "id": "cM3cApWSZuRX"
   },
   "source": [
    "Питання 1: Яка з продуктових лінійок приносить найменше прибутку, чому та як це змінити?"
   ]
  },
  {
   "cell_type": "code",
   "execution_count": 46,
   "metadata": {
    "ExecuteTime": {
     "end_time": "2024-09-05T08:53:05.059949Z",
     "start_time": "2024-09-05T08:53:05.020481Z"
    },
    "scrolled": true
   },
   "outputs": [
    {
     "data": {
      "text/plain": [
       "Product line\n",
       "Electronic accessories    54337.5315\n",
       "Fashion accessories       54305.8950\n",
       "Food and beverages        56144.8440\n",
       "Health and beauty         49193.7390\n",
       "Home and lifestyle        53861.9130\n",
       "Sports and travel         55122.8265\n",
       "Name: Total, dtype: float64"
      ]
     },
     "execution_count": 46,
     "metadata": {},
     "output_type": "execute_result"
    }
   ],
   "source": [
    "df.groupby('Product line')['Total'].sum()"
   ]
  },
  {
   "cell_type": "code",
   "execution_count": 48,
   "metadata": {
    "ExecuteTime": {
     "end_time": "2024-09-05T08:53:51.421555Z",
     "start_time": "2024-09-05T08:53:51.407262Z"
    }
   },
   "outputs": [
    {
     "data": {
      "text/plain": [
       "'Health and beauty'"
      ]
     },
     "execution_count": 48,
     "metadata": {},
     "output_type": "execute_result"
    }
   ],
   "source": [
    "df.groupby('Product line')['Total'].sum().idxmin()"
   ]
  },
  {
   "cell_type": "markdown",
   "metadata": {},
   "source": [
    "Додатково подивимося по містам."
   ]
  },
  {
   "cell_type": "code",
   "execution_count": 50,
   "metadata": {
    "ExecuteTime": {
     "end_time": "2024-09-05T08:56:24.835766Z",
     "start_time": "2024-09-05T08:56:24.826307Z"
    }
   },
   "outputs": [
    {
     "data": {
      "text/plain": [
       "City\n",
       "Mandalay     19980.660\n",
       "Naypyitaw    16615.326\n",
       "Yangon       12597.753\n",
       "Name: Total, dtype: float64"
      ]
     },
     "execution_count": 50,
     "metadata": {},
     "output_type": "execute_result"
    }
   ],
   "source": [
    "df[df['Product line'] == 'Health and beauty'].groupby('City')['Total'].sum()"
   ]
  },
  {
   "cell_type": "markdown",
   "metadata": {},
   "source": [
    "Також цікаво подивитися, чому у місті Yangon настільки мала сума."
   ]
  },
  {
   "cell_type": "code",
   "execution_count": 56,
   "metadata": {
    "ExecuteTime": {
     "end_time": "2024-09-05T09:11:36.916228Z",
     "start_time": "2024-09-05T09:11:36.894813Z"
    }
   },
   "outputs": [
    {
     "data": {
      "text/html": [
       "<div>\n",
       "<style scoped>\n",
       "    .dataframe tbody tr th:only-of-type {\n",
       "        vertical-align: middle;\n",
       "    }\n",
       "\n",
       "    .dataframe tbody tr th {\n",
       "        vertical-align: top;\n",
       "    }\n",
       "\n",
       "    .dataframe thead th {\n",
       "        text-align: right;\n",
       "    }\n",
       "</style>\n",
       "<table border=\"1\" class=\"dataframe\">\n",
       "  <thead>\n",
       "    <tr style=\"text-align: right;\">\n",
       "      <th></th>\n",
       "      <th>count</th>\n",
       "      <th>mean</th>\n",
       "      <th>min</th>\n",
       "      <th>max</th>\n",
       "    </tr>\n",
       "    <tr>\n",
       "      <th>City</th>\n",
       "      <th></th>\n",
       "      <th></th>\n",
       "      <th></th>\n",
       "      <th></th>\n",
       "    </tr>\n",
       "  </thead>\n",
       "  <tbody>\n",
       "    <tr>\n",
       "      <th>Mandalay</th>\n",
       "      <td>53</td>\n",
       "      <td>376.993585</td>\n",
       "      <td>18.6375</td>\n",
       "      <td>922.635</td>\n",
       "    </tr>\n",
       "    <tr>\n",
       "      <th>Naypyitaw</th>\n",
       "      <td>52</td>\n",
       "      <td>319.525500</td>\n",
       "      <td>32.2770</td>\n",
       "      <td>950.250</td>\n",
       "    </tr>\n",
       "    <tr>\n",
       "      <th>Yangon</th>\n",
       "      <td>47</td>\n",
       "      <td>268.037298</td>\n",
       "      <td>19.2465</td>\n",
       "      <td>752.640</td>\n",
       "    </tr>\n",
       "  </tbody>\n",
       "</table>\n",
       "</div>"
      ],
      "text/plain": [
       "           count        mean      min      max\n",
       "City                                          \n",
       "Mandalay      53  376.993585  18.6375  922.635\n",
       "Naypyitaw     52  319.525500  32.2770  950.250\n",
       "Yangon        47  268.037298  19.2465  752.640"
      ]
     },
     "execution_count": 56,
     "metadata": {},
     "output_type": "execute_result"
    }
   ],
   "source": [
    "df[df['Product line'] == 'Health and beauty'].groupby('City')['Total'].agg(['count', 'mean', 'min', 'max'])"
   ]
  },
  {
   "cell_type": "markdown",
   "metadata": {},
   "source": [
    "Бачимо, що у Yangon найменший середній чек. Це збігається з даними з попередніх домашніх завдань, де ми вже аналізували покупки у місті загалом. Але у випадку з 'Health and beauty', у Yangon ще й найменше покупок загалом.\n",
    "\n",
    "Можливо, у місті просто менший попит на ці товари. Це може бути зумовлено соціально-економічними умовами або конкурентним середовищем. \n",
    "\n",
    "Також користувачі в Yangon можуть бути більш чутливими до цін (такі висновки ми вже робили раніше, оцінюючи інші категорії), що призводить до менших витрат зокрема на категорію 'Health and beauty'. \n",
    "\n",
    "Ще один варіант, що в Yangon просто менше магазинів, які пропонують продукцію категорії 'Health and beauty', що обмежує можливість покупок у цій категорії."
   ]
  },
  {
   "cell_type": "markdown",
   "metadata": {},
   "source": [
    "Отже, повернемося до основного питання, чому 'Health and beauty' приносить найменше прибутку і як це змінити:\n",
    "\n",
    "• Треба оцінити попит та адаптувати асортимент. Як варіант, провести детальніший аналіз попиту на продукцію 'Health and beauty, включаючи опитування споживачів та аналіз конкурентів. \n",
    "• Треба провести аналіз демографічних груп, які купують продукцію 'Health and beauty', і визначити, чи є цільова аудиторія для цих товарів у цих містах. Можливо, потрібно розширити асортимент або адаптувати продукти для різних демографічних груп.\n",
    "• Треба оцінити ефективність маркетингових кампаній та провести конкурентний аналіз, щоб визначити, чи є магазини-конкуренти з більш привабливими цінами або пропозиціями. Як результат, можна розробити нові маркетингові стратегії, знов ж таки адаптувати їх для різних демографічних груп.\n",
    "• Треба перевірити, як ціни на 'Health and beauty' продукти у ваших магазинах співвідносяться з цінами у конкурентів. Оцінити чутливість споживачів до цін. Можливо, варто знизити ціни або ввести спеціальні акції та знижки для збільшення обсягу продажів."
   ]
  },
  {
   "cell_type": "markdown",
   "metadata": {},
   "source": [
    "Питання 2: У яких містах найменші показники продажів, які категорії товарів там найменш популярні. Знов ж таки, чому це можливо та як це можна вирішити?"
   ]
  },
  {
   "cell_type": "code",
   "execution_count": 62,
   "metadata": {
    "ExecuteTime": {
     "end_time": "2024-09-05T09:41:20.933729Z",
     "start_time": "2024-09-05T09:41:20.912420Z"
    }
   },
   "outputs": [
    {
     "data": {
      "text/html": [
       "<div>\n",
       "<style scoped>\n",
       "    .dataframe tbody tr th:only-of-type {\n",
       "        vertical-align: middle;\n",
       "    }\n",
       "\n",
       "    .dataframe tbody tr th {\n",
       "        vertical-align: top;\n",
       "    }\n",
       "\n",
       "    .dataframe thead th {\n",
       "        text-align: right;\n",
       "    }\n",
       "</style>\n",
       "<table border=\"1\" class=\"dataframe\">\n",
       "  <thead>\n",
       "    <tr style=\"text-align: right;\">\n",
       "      <th></th>\n",
       "      <th></th>\n",
       "      <th>Total</th>\n",
       "    </tr>\n",
       "    <tr>\n",
       "      <th>City</th>\n",
       "      <th>Product line</th>\n",
       "      <th></th>\n",
       "    </tr>\n",
       "  </thead>\n",
       "  <tbody>\n",
       "    <tr>\n",
       "      <th rowspan=\"6\" valign=\"top\">Mandalay</th>\n",
       "      <th>Electronic accessories</th>\n",
       "      <td>17051.4435</td>\n",
       "    </tr>\n",
       "    <tr>\n",
       "      <th>Fashion accessories</th>\n",
       "      <td>16413.3165</td>\n",
       "    </tr>\n",
       "    <tr>\n",
       "      <th>Food and beverages</th>\n",
       "      <td>15214.8885</td>\n",
       "    </tr>\n",
       "    <tr>\n",
       "      <th>Health and beauty</th>\n",
       "      <td>19980.6600</td>\n",
       "    </tr>\n",
       "    <tr>\n",
       "      <th>Home and lifestyle</th>\n",
       "      <td>17549.1645</td>\n",
       "    </tr>\n",
       "    <tr>\n",
       "      <th>Sports and travel</th>\n",
       "      <td>19988.1990</td>\n",
       "    </tr>\n",
       "    <tr>\n",
       "      <th rowspan=\"6\" valign=\"top\">Naypyitaw</th>\n",
       "      <th>Electronic accessories</th>\n",
       "      <td>18968.9745</td>\n",
       "    </tr>\n",
       "    <tr>\n",
       "      <th>Fashion accessories</th>\n",
       "      <td>21560.0700</td>\n",
       "    </tr>\n",
       "    <tr>\n",
       "      <th>Food and beverages</th>\n",
       "      <td>23766.8550</td>\n",
       "    </tr>\n",
       "    <tr>\n",
       "      <th>Health and beauty</th>\n",
       "      <td>16615.3260</td>\n",
       "    </tr>\n",
       "    <tr>\n",
       "      <th>Home and lifestyle</th>\n",
       "      <td>13895.5530</td>\n",
       "    </tr>\n",
       "    <tr>\n",
       "      <th>Sports and travel</th>\n",
       "      <td>15761.9280</td>\n",
       "    </tr>\n",
       "    <tr>\n",
       "      <th rowspan=\"6\" valign=\"top\">Yangon</th>\n",
       "      <th>Electronic accessories</th>\n",
       "      <td>18317.1135</td>\n",
       "    </tr>\n",
       "    <tr>\n",
       "      <th>Fashion accessories</th>\n",
       "      <td>16332.5085</td>\n",
       "    </tr>\n",
       "    <tr>\n",
       "      <th>Food and beverages</th>\n",
       "      <td>17163.1005</td>\n",
       "    </tr>\n",
       "    <tr>\n",
       "      <th>Health and beauty</th>\n",
       "      <td>12597.7530</td>\n",
       "    </tr>\n",
       "    <tr>\n",
       "      <th>Home and lifestyle</th>\n",
       "      <td>22417.1955</td>\n",
       "    </tr>\n",
       "    <tr>\n",
       "      <th>Sports and travel</th>\n",
       "      <td>19372.6995</td>\n",
       "    </tr>\n",
       "  </tbody>\n",
       "</table>\n",
       "</div>"
      ],
      "text/plain": [
       "                                       Total\n",
       "City      Product line                      \n",
       "Mandalay  Electronic accessories  17051.4435\n",
       "          Fashion accessories     16413.3165\n",
       "          Food and beverages      15214.8885\n",
       "          Health and beauty       19980.6600\n",
       "          Home and lifestyle      17549.1645\n",
       "          Sports and travel       19988.1990\n",
       "Naypyitaw Electronic accessories  18968.9745\n",
       "          Fashion accessories     21560.0700\n",
       "          Food and beverages      23766.8550\n",
       "          Health and beauty       16615.3260\n",
       "          Home and lifestyle      13895.5530\n",
       "          Sports and travel       15761.9280\n",
       "Yangon    Electronic accessories  18317.1135\n",
       "          Fashion accessories     16332.5085\n",
       "          Food and beverages      17163.1005\n",
       "          Health and beauty       12597.7530\n",
       "          Home and lifestyle      22417.1955\n",
       "          Sports and travel       19372.6995"
      ]
     },
     "execution_count": 62,
     "metadata": {},
     "output_type": "execute_result"
    }
   ],
   "source": [
    "df.groupby(['City', 'Product line']).agg({'Total': 'sum'})"
   ]
  },
  {
   "cell_type": "code",
   "execution_count": 68,
   "metadata": {
    "ExecuteTime": {
     "end_time": "2024-09-05T10:03:31.107511Z",
     "start_time": "2024-09-05T10:03:31.034993Z"
    }
   },
   "outputs": [
    {
     "data": {
      "text/html": [
       "<div>\n",
       "<style scoped>\n",
       "    .dataframe tbody tr th:only-of-type {\n",
       "        vertical-align: middle;\n",
       "    }\n",
       "\n",
       "    .dataframe tbody tr th {\n",
       "        vertical-align: top;\n",
       "    }\n",
       "\n",
       "    .dataframe thead th {\n",
       "        text-align: right;\n",
       "    }\n",
       "</style>\n",
       "<table border=\"1\" class=\"dataframe\">\n",
       "  <thead>\n",
       "    <tr style=\"text-align: right;\">\n",
       "      <th></th>\n",
       "      <th></th>\n",
       "      <th>Total</th>\n",
       "    </tr>\n",
       "    <tr>\n",
       "      <th>City</th>\n",
       "      <th>Product line</th>\n",
       "      <th></th>\n",
       "    </tr>\n",
       "  </thead>\n",
       "  <tbody>\n",
       "    <tr>\n",
       "      <th>Yangon</th>\n",
       "      <th>Health and beauty</th>\n",
       "      <td>12597.753</td>\n",
       "    </tr>\n",
       "    <tr>\n",
       "      <th>Naypyitaw</th>\n",
       "      <th>Home and lifestyle</th>\n",
       "      <td>13895.553</td>\n",
       "    </tr>\n",
       "  </tbody>\n",
       "</table>\n",
       "</div>"
      ],
      "text/plain": [
       "                                  Total\n",
       "City      Product line                 \n",
       "Yangon    Health and beauty   12597.753\n",
       "Naypyitaw Home and lifestyle  13895.553"
      ]
     },
     "execution_count": 68,
     "metadata": {},
     "output_type": "execute_result"
    }
   ],
   "source": [
    "df.groupby(['City', 'Product line']).agg({'Total': 'sum'}).sort_values(by='Total', ascending=True).head(2)"
   ]
  },
  {
   "cell_type": "markdown",
   "metadata": {},
   "source": [
    "Вище ми вже обговорили продуктову лінійку Health and beauty у Yangon. Але тепер ми бачимо, що другим найнижчим показником з продажів є Home and lifestyle у Naypyitaw. Спочатку подивимося, чи категорія Home and lifestyle є другою з найменшим прибутком, а також подивимося яка різниця у продажах у Naypyitaw та інших містах."
   ]
  },
  {
   "cell_type": "code",
   "execution_count": 74,
   "metadata": {
    "ExecuteTime": {
     "end_time": "2024-09-05T10:08:16.006445Z",
     "start_time": "2024-09-05T10:08:15.994869Z"
    }
   },
   "outputs": [
    {
     "data": {
      "text/plain": [
       "Product line\n",
       "Health and beauty         49193.7390\n",
       "Home and lifestyle        53861.9130\n",
       "Fashion accessories       54305.8950\n",
       "Electronic accessories    54337.5315\n",
       "Sports and travel         55122.8265\n",
       "Name: Total, dtype: float64"
      ]
     },
     "execution_count": 74,
     "metadata": {},
     "output_type": "execute_result"
    }
   ],
   "source": [
    "df.groupby('Product line')['Total'].sum().nsmallest()"
   ]
  },
  {
   "cell_type": "code",
   "execution_count": 75,
   "metadata": {
    "ExecuteTime": {
     "end_time": "2024-09-05T10:09:00.897440Z",
     "start_time": "2024-09-05T10:09:00.875310Z"
    }
   },
   "outputs": [
    {
     "data": {
      "text/plain": [
       "City\n",
       "Mandalay     17549.1645\n",
       "Naypyitaw    13895.5530\n",
       "Yangon       22417.1955\n",
       "Name: Total, dtype: float64"
      ]
     },
     "execution_count": 75,
     "metadata": {},
     "output_type": "execute_result"
    }
   ],
   "source": [
    "df[df['Product line'] == 'Home and lifestyle'].groupby('City')['Total'].sum()"
   ]
  },
  {
   "cell_type": "code",
   "execution_count": 76,
   "metadata": {
    "ExecuteTime": {
     "end_time": "2024-09-05T10:09:24.318675Z",
     "start_time": "2024-09-05T10:09:24.296923Z"
    }
   },
   "outputs": [
    {
     "data": {
      "text/html": [
       "<div>\n",
       "<style scoped>\n",
       "    .dataframe tbody tr th:only-of-type {\n",
       "        vertical-align: middle;\n",
       "    }\n",
       "\n",
       "    .dataframe tbody tr th {\n",
       "        vertical-align: top;\n",
       "    }\n",
       "\n",
       "    .dataframe thead th {\n",
       "        text-align: right;\n",
       "    }\n",
       "</style>\n",
       "<table border=\"1\" class=\"dataframe\">\n",
       "  <thead>\n",
       "    <tr style=\"text-align: right;\">\n",
       "      <th></th>\n",
       "      <th>count</th>\n",
       "      <th>mean</th>\n",
       "      <th>min</th>\n",
       "      <th>max</th>\n",
       "    </tr>\n",
       "    <tr>\n",
       "      <th>City</th>\n",
       "      <th></th>\n",
       "      <th></th>\n",
       "      <th></th>\n",
       "      <th></th>\n",
       "    </tr>\n",
       "  </thead>\n",
       "  <tbody>\n",
       "    <tr>\n",
       "      <th>Mandalay</th>\n",
       "      <td>50</td>\n",
       "      <td>350.983290</td>\n",
       "      <td>33.936</td>\n",
       "      <td>1022.490</td>\n",
       "    </tr>\n",
       "    <tr>\n",
       "      <th>Naypyitaw</th>\n",
       "      <td>45</td>\n",
       "      <td>308.790067</td>\n",
       "      <td>14.679</td>\n",
       "      <td>1023.750</td>\n",
       "    </tr>\n",
       "    <tr>\n",
       "      <th>Yangon</th>\n",
       "      <td>65</td>\n",
       "      <td>344.879931</td>\n",
       "      <td>19.194</td>\n",
       "      <td>951.825</td>\n",
       "    </tr>\n",
       "  </tbody>\n",
       "</table>\n",
       "</div>"
      ],
      "text/plain": [
       "           count        mean     min       max\n",
       "City                                          \n",
       "Mandalay      50  350.983290  33.936  1022.490\n",
       "Naypyitaw     45  308.790067  14.679  1023.750\n",
       "Yangon        65  344.879931  19.194   951.825"
      ]
     },
     "execution_count": 76,
     "metadata": {},
     "output_type": "execute_result"
    }
   ],
   "source": [
    "df[df['Product line'] == 'Home and lifestyle'].groupby('City')['Total'].agg(['count', 'mean', 'min', 'max'])"
   ]
  },
  {
   "cell_type": "markdown",
   "metadata": {},
   "source": [
    "Дійсно, ми бачимо, що у продуктовій лінійці Home and lifestyle, найменші показники є у місті Naypyitaw. Хоча одночасно з найменшими показниками, там і була зафіксована найбільша максимальна сума чеку, але вона зовсім трохи вища за показники Mandalay.\n",
    "\n",
    "Це приводить нас до таких висновків:\n",
    "\n",
    "• Можливо, цей сегмент ринку не є популярним серед споживачів у цьому місті. Це може бути пов'язано з низьким попитом або недостатньою представленістю товарів цієї категорії на ринку.\n",
    "• Хоча показники продажів у Naypyitaw є найменшими, максимальна сума чеку є найвищою. Це може свідчити про те, що, коли споживачі купують товари з категорії Home and lifestyle, вони витрачають більше на одиницю товару, але таких покупок небагато. Це може бути ознакою того, що споживачі купують ці товари рідше, але з високими витратами на одиницю.\n",
    "\n",
    "Що треба зробити далі:\n",
    "\n",
    "•  Провести глибше дослідження ринку в Naypyitaw, щоб зрозуміти, чи попит на Home and lifestyle продукцію низький чи товари недостатньо представлені на ринку. Варто оцінити соціально-економічні умови, конкурентне середовище, і провести детальніший аналіз попиту на продукцію. Можливо, за результатами дослідження треба буде розширити або адаптувати асортимент. Якщо ж виявиться, що покупці там менш платоспроможні, треба переглянути цінову політику або ввести спеціальні пропозиції (акції, програми лояльності)."
   ]
  },
  {
   "cell_type": "markdown",
   "metadata": {},
   "source": [
    "Питання 3: Тепер подивимося яка категорія товарів приносить найбільше прибутку. Та чи ситуація у містах відрізняється від ситуації, яку ми бачимо у категоріях Home and lifestyle та Health and beauty. Чим це може бути зумовлено."
   ]
  },
  {
   "cell_type": "code",
   "execution_count": 77,
   "metadata": {
    "ExecuteTime": {
     "end_time": "2024-09-05T10:21:32.471469Z",
     "start_time": "2024-09-05T10:21:32.434505Z"
    }
   },
   "outputs": [
    {
     "data": {
      "text/plain": [
       "'Food and beverages'"
      ]
     },
     "execution_count": 77,
     "metadata": {},
     "output_type": "execute_result"
    }
   ],
   "source": [
    "df.groupby('Product line')['Total'].sum().idxmax()"
   ]
  },
  {
   "cell_type": "code",
   "execution_count": 78,
   "metadata": {
    "ExecuteTime": {
     "end_time": "2024-09-05T10:21:49.089295Z",
     "start_time": "2024-09-05T10:21:49.075958Z"
    }
   },
   "outputs": [
    {
     "data": {
      "text/plain": [
       "City\n",
       "Mandalay     15214.8885\n",
       "Naypyitaw    23766.8550\n",
       "Yangon       17163.1005\n",
       "Name: Total, dtype: float64"
      ]
     },
     "execution_count": 78,
     "metadata": {},
     "output_type": "execute_result"
    }
   ],
   "source": [
    "df[df['Product line'] == 'Food and beverages'].groupby('City')['Total'].sum()"
   ]
  },
  {
   "cell_type": "code",
   "execution_count": 79,
   "metadata": {
    "ExecuteTime": {
     "end_time": "2024-09-05T10:22:11.153602Z",
     "start_time": "2024-09-05T10:22:11.132070Z"
    }
   },
   "outputs": [
    {
     "data": {
      "text/html": [
       "<div>\n",
       "<style scoped>\n",
       "    .dataframe tbody tr th:only-of-type {\n",
       "        vertical-align: middle;\n",
       "    }\n",
       "\n",
       "    .dataframe tbody tr th {\n",
       "        vertical-align: top;\n",
       "    }\n",
       "\n",
       "    .dataframe thead th {\n",
       "        text-align: right;\n",
       "    }\n",
       "</style>\n",
       "<table border=\"1\" class=\"dataframe\">\n",
       "  <thead>\n",
       "    <tr style=\"text-align: right;\">\n",
       "      <th></th>\n",
       "      <th>count</th>\n",
       "      <th>mean</th>\n",
       "      <th>min</th>\n",
       "      <th>max</th>\n",
       "    </tr>\n",
       "    <tr>\n",
       "      <th>City</th>\n",
       "      <th></th>\n",
       "      <th></th>\n",
       "      <th></th>\n",
       "      <th></th>\n",
       "    </tr>\n",
       "  </thead>\n",
       "  <tbody>\n",
       "    <tr>\n",
       "      <th>Mandalay</th>\n",
       "      <td>50</td>\n",
       "      <td>304.297770</td>\n",
       "      <td>56.406</td>\n",
       "      <td>888.615</td>\n",
       "    </tr>\n",
       "    <tr>\n",
       "      <th>Naypyitaw</th>\n",
       "      <td>66</td>\n",
       "      <td>360.103864</td>\n",
       "      <td>22.659</td>\n",
       "      <td>1034.460</td>\n",
       "    </tr>\n",
       "    <tr>\n",
       "      <th>Yangon</th>\n",
       "      <td>58</td>\n",
       "      <td>295.915526</td>\n",
       "      <td>33.432</td>\n",
       "      <td>932.337</td>\n",
       "    </tr>\n",
       "  </tbody>\n",
       "</table>\n",
       "</div>"
      ],
      "text/plain": [
       "           count        mean     min       max\n",
       "City                                          \n",
       "Mandalay      50  304.297770  56.406   888.615\n",
       "Naypyitaw     66  360.103864  22.659  1034.460\n",
       "Yangon        58  295.915526  33.432   932.337"
      ]
     },
     "execution_count": 79,
     "metadata": {},
     "output_type": "execute_result"
    }
   ],
   "source": [
    "df[df['Product line'] == 'Food and beverages'].groupby('City')['Total'].agg(['count', 'mean', 'min', 'max'])"
   ]
  },
  {
   "cell_type": "markdown",
   "metadata": {},
   "source": [
    "Таким чином, ми зʼясували, що найбільше прибутку приносить категорія Food and beverages. Тим не менш, ми бачимо, що ситуація у трьох містах відрізняється. У цьому випадку найменші показники у місті Mandalay. \n",
    "\n",
    "Можливо, попит на товари категорії Food and beverages у Mandalay є меншим порівняно з іншими містами. Це може бути зумовлено різницею в асортименті або кількістю конкурентів. Малойморівно, що це зумовлено цінами, адже в інших категоріях (як от Health and beauty, Home and lifestyle) Mandalay не мав найменші показники.\n",
    "\n",
    "Також можливо, що маркетингові кампанії для Food and beverages у Mandalay були менш ефективними в порівнянні з іншими містами.\n",
    "\n",
    "Загалом, оскільки Food and beverages приносить найбільший прибуток з усіх категорій, бізнесу треба розглянути можливість розширення асортименту цієї категорії в усіх містах. Це може включати впровадження нових продуктів або розширення існуючих лінійок. Треба розробити маркетингові кампанії, що акцентують увагу на цій категорії.\n",
    "\n",
    "Якщо є потенціал для розширення, можна відкрити нові точки продажу, особливо в містах з найбільшим прибутком, таких як Naypyitaw. "
   ]
  }
 ],
 "metadata": {
  "colab": {
   "provenance": []
  },
  "kernelspec": {
   "display_name": "Python 3 (ipykernel)",
   "language": "python",
   "name": "python3"
  },
  "language_info": {
   "codemirror_mode": {
    "name": "ipython",
    "version": 3
   },
   "file_extension": ".py",
   "mimetype": "text/x-python",
   "name": "python",
   "nbconvert_exporter": "python",
   "pygments_lexer": "ipython3",
   "version": "3.12.2"
  }
 },
 "nbformat": 4,
 "nbformat_minor": 1
}
