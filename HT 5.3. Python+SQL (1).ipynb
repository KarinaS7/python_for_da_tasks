{
 "cells": [
  {
   "cell_type": "markdown",
   "id": "2153041f",
   "metadata": {
    "id": "2153041f"
   },
   "source": [
    "# Завдання на використання SQL в Python"
   ]
  },
  {
   "cell_type": "markdown",
   "id": "2c1af6e1",
   "metadata": {
    "ExecuteTime": {
     "end_time": "2022-11-27T18:04:46.316592Z",
     "start_time": "2022-11-27T18:04:46.302021Z"
    },
    "id": "2c1af6e1"
   },
   "source": [
    "1.Встановіть бібліотеку `mysql-connector-python` через pip aбо через conda."
   ]
  },
  {
   "cell_type": "code",
   "execution_count": 1,
   "id": "a8fcd64e",
   "metadata": {
    "ExecuteTime": {
     "end_time": "2024-11-03T22:00:09.996788Z",
     "start_time": "2024-11-03T22:00:07.829740Z"
    },
    "id": "a8fcd64e"
   },
   "outputs": [
    {
     "name": "stdout",
     "output_type": "stream",
     "text": [
      "Requirement already satisfied: mysql-connector-python in /opt/anaconda3/lib/python3.12/site-packages (9.0.0)\n",
      "Note: you may need to restart the kernel to use updated packages.\n"
     ]
    }
   ],
   "source": [
    "pip install mysql-connector-python"
   ]
  },
  {
   "cell_type": "markdown",
   "id": "eec5551e",
   "metadata": {
    "id": "eec5551e",
    "pycharm": {
     "name": "#%% md\n"
    }
   },
   "source": [
    "2.В змінній `con` створіть підключення до бази даних employees за аналогією того, як це робилось в лекції:"
   ]
  },
  {
   "cell_type": "code",
   "execution_count": 43,
   "id": "e3fff0d8",
   "metadata": {
    "ExecuteTime": {
     "end_time": "2024-11-03T22:17:24.107853Z",
     "start_time": "2024-11-03T22:17:23.916440Z"
    },
    "id": "e3fff0d8"
   },
   "outputs": [],
   "source": [
    "import mysql.connector\n",
    "\n",
    "con = mysql.connector.connect(\n",
    "    host='3.68.62.36',\n",
    "    user='user1',\n",
    "    password='7oygWy6P',\n",
    "    database='employees'\n",
    ")"
   ]
  },
  {
   "cell_type": "markdown",
   "id": "8b17a588",
   "metadata": {
    "ExecuteTime": {
     "end_time": "2022-01-26T22:23:01.406330Z",
     "start_time": "2022-01-26T22:23:01.403942Z"
    },
    "id": "8b17a588",
    "pycharm": {
     "name": "#%% md\n"
    }
   },
   "source": [
    "3.Виберіть максимальну і мінімальну дати найму співробітників використовуючи `con.cursor()`. Аби отримати результати в кінці, виконайте `cursor.fetchall()`."
   ]
  },
  {
   "cell_type": "code",
   "execution_count": 44,
   "id": "2d9785de",
   "metadata": {
    "ExecuteTime": {
     "end_time": "2024-11-03T22:17:25.976550Z",
     "start_time": "2024-11-03T22:17:25.942331Z"
    },
    "id": "2d9785de"
   },
   "outputs": [],
   "source": [
    "cursor = con.cursor()"
   ]
  },
  {
   "cell_type": "code",
   "execution_count": 45,
   "id": "fa132e39",
   "metadata": {
    "ExecuteTime": {
     "end_time": "2024-11-03T22:17:27.741899Z",
     "start_time": "2024-11-03T22:17:27.611722Z"
    }
   },
   "outputs": [],
   "source": [
    "query = \"SELECT MAX(hire_date), MIN(hire_date) FROM employees\"\n",
    "cursor.execute(query)"
   ]
  },
  {
   "cell_type": "code",
   "execution_count": 46,
   "id": "ca6e6e79",
   "metadata": {
    "ExecuteTime": {
     "end_time": "2024-11-03T22:17:29.155756Z",
     "start_time": "2024-11-03T22:17:29.136523Z"
    }
   },
   "outputs": [
    {
     "data": {
      "text/plain": [
       "[(datetime.date(2000, 1, 28), datetime.date(1985, 1, 1))]"
      ]
     },
     "execution_count": 46,
     "metadata": {},
     "output_type": "execute_result"
    }
   ],
   "source": [
    "cursor.fetchall()"
   ]
  },
  {
   "cell_type": "code",
   "execution_count": 47,
   "id": "3c1121df",
   "metadata": {
    "ExecuteTime": {
     "end_time": "2024-11-03T22:17:32.153417Z",
     "start_time": "2024-11-03T22:17:32.147427Z"
    }
   },
   "outputs": [
    {
     "data": {
      "text/plain": [
       "True"
      ]
     },
     "execution_count": 47,
     "metadata": {},
     "output_type": "execute_result"
    }
   ],
   "source": [
    "cursor.close()"
   ]
  },
  {
   "cell_type": "markdown",
   "id": "955dd2fa",
   "metadata": {
    "ExecuteTime": {
     "end_time": "2022-11-27T18:11:33.491134Z",
     "start_time": "2022-11-27T18:11:33.486973Z"
    },
    "id": "955dd2fa"
   },
   "source": [
    "Очікуваний результат:  \n",
    "    `[(datetime.date(2000, 1, 28), datetime.date(1985, 1, 1))]`"
   ]
  },
  {
   "cell_type": "markdown",
   "id": "1d9c214d",
   "metadata": {
    "ExecuteTime": {
     "end_time": "2023-07-14T15:52:49.876166Z",
     "start_time": "2023-07-14T15:52:49.855548Z"
    },
    "id": "1d9c214d"
   },
   "source": [
    "4.Давайте зберемо інформацію про останню ЗП кожного співробіткника в базі. З використанням `con.cursor()` виберіть з таблиці `salaries` для кожного співробітника його номер, останню в базі даних (тобто ту, що відповідає найновішій `to_date`) ЗП, та значення `from_date`, `to_date` для цієї ЗП.\n",
    "\n",
    "Результати запишіть у pandas DataFrame, який збережіть у змінну `res`. Як взяти з курсора назви колонок - вже наведено. На екран виведіть назви колонок в змінній `res`, розмір цього датафрейму та перші 3 записи в ньому.\n",
    "\n",
    "УВАГА! Зверніть увагу, що ЗП може оновлюватись протягом одного дня, тобто є випадки, коли апдейт ЗП був в певний день, скажімо 2001-01-01 і потім стався ще один апдейт ЗП цьому співробітнику цього самого дня. Запит має це враховувати.\n",
    "Також, теоретично ЗП може бути зменшена. Тож, брати дату з максимальною ЗП буде неправильно з точки зору бізнес логіки. Треба саме останнє історичне значення ЗП кожного співробітника."
   ]
  },
  {
   "cell_type": "code",
   "execution_count": 48,
   "id": "f326ba43",
   "metadata": {
    "ExecuteTime": {
     "end_time": "2024-11-03T22:17:42.219007Z",
     "start_time": "2024-11-03T22:17:42.183748Z"
    },
    "id": "f326ba43"
   },
   "outputs": [],
   "source": [
    "cursor = con.cursor()"
   ]
  },
  {
   "cell_type": "code",
   "execution_count": 49,
   "id": "44e6da66",
   "metadata": {
    "ExecuteTime": {
     "end_time": "2024-11-03T22:17:44.398625Z",
     "start_time": "2024-11-03T22:17:44.393769Z"
    }
   },
   "outputs": [],
   "source": [
    "query = \"\"\"\n",
    "SELECT emp_no, salary, from_date, to_date\n",
    "FROM salaries\n",
    "WHERE to_date = (SELECT MAX(to_date) FROM salaries AS s2 WHERE salaries.emp_no = s2.emp_no)\n",
    "\"\"\""
   ]
  },
  {
   "cell_type": "code",
   "execution_count": 50,
   "id": "0f3296cc",
   "metadata": {
    "ExecuteTime": {
     "end_time": "2024-11-03T22:17:46.309072Z",
     "start_time": "2024-11-03T22:17:46.203562Z"
    }
   },
   "outputs": [],
   "source": [
    "cursor.execute(query)"
   ]
  },
  {
   "cell_type": "code",
   "execution_count": 51,
   "id": "bf5eb14d",
   "metadata": {
    "ExecuteTime": {
     "end_time": "2024-11-03T22:17:52.687830Z",
     "start_time": "2024-11-03T22:17:52.685091Z"
    },
    "id": "bf5eb14d"
   },
   "outputs": [],
   "source": [
    "field_names = [i[0] for i in cursor.description]"
   ]
  },
  {
   "cell_type": "code",
   "execution_count": 52,
   "id": "b1d6d0d9",
   "metadata": {
    "ExecuteTime": {
     "end_time": "2024-11-03T22:17:54.431351Z",
     "start_time": "2024-11-03T22:17:54.427382Z"
    }
   },
   "outputs": [],
   "source": [
    "import pandas as pd"
   ]
  },
  {
   "cell_type": "code",
   "execution_count": 53,
   "id": "a55049ea",
   "metadata": {
    "ExecuteTime": {
     "end_time": "2024-11-03T22:18:20.606971Z",
     "start_time": "2024-11-03T22:17:55.885459Z"
    }
   },
   "outputs": [],
   "source": [
    "res = pd.DataFrame(cursor.fetchall(), columns=field_names)"
   ]
  },
  {
   "cell_type": "code",
   "execution_count": 56,
   "id": "4481e09f",
   "metadata": {
    "ExecuteTime": {
     "end_time": "2024-11-03T22:19:10.569151Z",
     "start_time": "2024-11-03T22:19:10.562137Z"
    },
    "scrolled": false
   },
   "outputs": [
    {
     "name": "stdout",
     "output_type": "stream",
     "text": [
      "Index(['emp_no', 'salary', 'from_date', 'to_date'], dtype='object')\n",
      "\n",
      "(300180, 4)\n",
      "\n",
      "   emp_no  salary   from_date     to_date\n",
      "0   10001   88958  2002-06-22  9999-01-01\n",
      "1   10002   72527  2001-08-02  9999-01-01\n",
      "2   10003   43311  2001-12-01  9999-01-01\n"
     ]
    }
   ],
   "source": [
    "print(res.columns)\n",
    "print()\n",
    "print(res.shape)\n",
    "print()\n",
    "print(res.head(3))"
   ]
  },
  {
   "cell_type": "markdown",
   "id": "fb5676cb",
   "metadata": {
    "id": "fb5676cb"
   },
   "source": [
    "Очікуваний результат:\n",
    "\n",
    "![](https://drive.google.com/uc?export=view&id=1lNvzbAebtkj3C2v-I5AE6HkMH8MTI1kA)"
   ]
  },
  {
   "cell_type": "markdown",
   "id": "e5770b56",
   "metadata": {
    "ExecuteTime": {
     "end_time": "2023-07-14T16:17:31.638485Z",
     "start_time": "2023-07-14T16:17:31.632827Z"
    },
    "id": "e5770b56"
   },
   "source": [
    "5.В утвореній вибірці в змінній `res` скільки значень `to_date` рівні `9999-01-01`, а скільки - ні? Увага! Для виконання цього завдання важливо розуміти, який тип даних у значень колонки `to_date`. Зʼясуйте це, і потім напишіть фільтр для виводу потрібного результату."
   ]
  },
  {
   "cell_type": "code",
   "execution_count": 80,
   "id": "4301973b",
   "metadata": {
    "ExecuteTime": {
     "end_time": "2024-11-03T22:39:30.481142Z",
     "start_time": "2024-11-03T22:39:30.406752Z"
    }
   },
   "outputs": [
    {
     "data": {
      "text/plain": [
       "(240124, 60056)"
      ]
     },
     "execution_count": 80,
     "metadata": {},
     "output_type": "execute_result"
    }
   ],
   "source": [
    "res['to_date'] = res['to_date'].astype(str)\n",
    "\n",
    "count_9999 = len(res[res['to_date'] == '9999-01-01'])\n",
    "count_other = len(res[res['to_date'] != '9999-01-01'])\n",
    "\n",
    "count_9999, count_other"
   ]
  },
  {
   "cell_type": "markdown",
   "id": "ae22c37a",
   "metadata": {
    "id": "ae22c37a"
   },
   "source": [
    "6.Виведіть візуально розподіл (гістограму) зарплат співробітників, які досі працюють в компанії, використовуючи результат попереднього завдання. Співробітниками, які досі працюють в компанії вважаємо тих, в кого to_date має значення 9999-01-01. Обовʼязково підпишіть графік і вісі.\n",
    "\n",
    "Ці три завдання - приклад, як нам може бути зручно витягнути дані з бази певним запитом, а потім використати витягнуту вибірку у Python для подальшого аналізу."
   ]
  },
  {
   "cell_type": "code",
   "execution_count": 100,
   "id": "ede9a748",
   "metadata": {
    "ExecuteTime": {
     "end_time": "2024-11-03T22:52:53.856339Z",
     "start_time": "2024-11-03T22:52:53.697306Z"
    },
    "id": "ede9a748",
    "scrolled": false
   },
   "outputs": [
    {
     "data": {
      "image/png": "[encoded data removed]",
      "text/plain": [
       "<Figure size 1000x600 with 1 Axes>"
      ]
     },
     "metadata": {},
     "output_type": "display_data"
    }
   ],
   "source": [
    "import matplotlib.pyplot as plt\n",
    "\n",
    "current_employees = res[res['to_date'] == '9999-01-01']\n",
    "\n",
    "plt.figure(figsize=(10, 6))\n",
    "plt.hist(current_employees['salary'], bins=10, edgecolor='black', color='blue', alpha=0.7)\n",
    "\n",
    "plt.title('Розподіл поточних зарплат в компанії', fontsize=14)\n",
    "plt.xlabel('Розмір ЗП', fontsize=12)\n",
    "plt.ylabel('Кількість співробітників з такою ЗП', fontsize=12)\n",
    "\n",
    "plt.grid(axis='y', linestyle='--', alpha=0.7)\n",
    "\n",
    "plt.show()"
   ]
  },
  {
   "cell_type": "markdown",
   "id": "AL26SP3WMJiX",
   "metadata": {
    "id": "AL26SP3WMJiX"
   },
   "source": [
    "Очікуваний результат:\n",
    "\n",
    "![](https://drive.google.com/uc?export=view&id=1j8MHLC1E0revbQLM9B0UJs6tVEgoWhmK)"
   ]
  },
  {
   "cell_type": "markdown",
   "id": "Cp_JpGPpKmzp",
   "metadata": {
    "id": "Cp_JpGPpKmzp"
   },
   "source": [
    "НЕ ЗАБУВАЄМО ЗАКРИТИ ПІДКЛЮЧЕННЯ ДО БАЗИ :)"
   ]
  },
  {
   "cell_type": "code",
   "execution_count": 101,
   "id": "WEMo9bl6KnMh",
   "metadata": {
    "ExecuteTime": {
     "end_time": "2024-11-03T22:53:00.928317Z",
     "start_time": "2024-11-03T22:53:00.901828Z"
    },
    "id": "WEMo9bl6KnMh"
   },
   "outputs": [],
   "source": [
    "con.close()"
   ]
  },
  {
   "cell_type": "code",
   "execution_count": null,
   "id": "9e0f3d65",
   "metadata": {},
   "outputs": [],
   "source": []
  }
 ],
 "metadata": {
  "colab": {
   "provenance": []
  },
  "kernelspec": {
   "display_name": "Python 3 (ipykernel)",
   "language": "python",
   "name": "python3"
  },
  "language_info": {
   "codemirror_mode": {
    "name": "ipython",
    "version": 3
   },
   "file_extension": ".py",
   "mimetype": "text/x-python",
   "name": "python",
   "nbconvert_exporter": "python",
   "pygments_lexer": "ipython3",
   "version": "3.12.2"
  },
  "toc": {
   "base_numbering": 1,
   "nav_menu": {},
   "number_sections": true,
   "sideBar": true,
   "skip_h1_title": false,
   "title_cell": "Table of Contents",
   "title_sidebar": "Contents",
   "toc_cell": false,
   "toc_position": {},
   "toc_section_display": true,
   "toc_window_display": false
  },
  "vscode": {
   "interpreter": {
    "hash": "a6511e6b41b26ba86cca7483749cf4dd15bf137a2672e550741a656e19bba82e"
   }
  }
 },
 "nbformat": 4,
 "nbformat_minor": 5
}
